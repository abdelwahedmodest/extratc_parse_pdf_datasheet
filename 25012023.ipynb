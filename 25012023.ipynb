{
  "nbformat": 4,
  "nbformat_minor": 0,
  "metadata": {
    "colab": {
      "provenance": [],
      "authorship_tag": "ABX9TyOVng6E7CCn1f4FKVhw7mqR",
      "include_colab_link": true
    },
    "kernelspec": {
      "name": "python3",
      "display_name": "Python 3"
    },
    "language_info": {
      "name": "python"
    }
  },
  "cells": [
    {
      "cell_type": "markdown",
      "metadata": {
        "id": "view-in-github",
        "colab_type": "text"
      },
      "source": [
        "<a href=\"https://colab.research.google.com/github/abdelwahedmodest/extratc_parse_pdf_datasheet/blob/master/25012023.ipynb\" target=\"_parent\"><img src=\"https://colab.research.google.com/assets/colab-badge.svg\" alt=\"Open In Colab\"/></a>"
      ]
    },
    {
      "cell_type": "markdown",
      "source": [
        "**reading  and parsing pdf  file **"
      ],
      "metadata": {
        "id": "ndtzvWtt7j9G"
      }
    },
    {
      "cell_type": "code",
      "source": [
        "!pip install pdfminer\n",
        "\n",
        "from io import StringIO\n",
        "from pdfminer.pdfinterp import PDFResourceManager, PDFPageInterpreter\n",
        "from pdfminer.converter import TextConverter\n",
        "from pdfminer.layout import LAParams\n",
        "from pdfminer.pdfpage import PDFPage\n",
        "import os\n",
        "\n",
        "path='/abc.pdf'\n",
        "def convert_pdf_to_txt(path):\n",
        "    rsrcmgr = PDFResourceManager()\n",
        "    retstr = StringIO()\n",
        "    codec = 'utf-8'\n",
        "    laparams = LAParams()\n",
        "    device = TextConverter(rsrcmgr, retstr, codec=codec, laparams=laparams)\n",
        "    fp = open(path, 'rb')\n",
        "    interpreter = PDFPageInterpreter(rsrcmgr, device)\n",
        "    password = \"\"\n",
        "    maxpages = 0\n",
        "    caching = True\n",
        "    pagenos=set()\n",
        "\n",
        "    for page in PDFPage.get_pages(fp, pagenos, maxpages=maxpages, password=password,caching=caching, check_extractable=True):\n",
        "        interpreter.process_page(page)\n",
        "\n",
        "    text = retstr.getvalue()\n",
        "\n",
        "    fp.close()\n",
        "    device.close()\n",
        "    retstr.close()\n",
        "    return text\n",
        "\n",
        "print(convert_pdf_to_txt('path/to/file.pdf'))\n"
      ],
      "metadata": {
        "colab": {
          "base_uri": "https://localhost:8080/",
          "height": 591
        },
        "id": "UdY4Iezs_JDv",
        "outputId": "62fbbd7c-cf4d-433c-f990-ec065b90eb55"
      },
      "execution_count": null,
      "outputs": [
        {
          "output_type": "stream",
          "name": "stdout",
          "text": [
            "Looking in indexes: https://pypi.org/simple, https://us-python.pkg.dev/colab-wheels/public/simple/\n",
            "Collecting pdfminer\n",
            "  Downloading pdfminer-20191125.tar.gz (4.2 MB)\n",
            "\u001b[?25l     \u001b[90m━━━━━━━━━━━━━━━━━━━━━━━━━━━━━━━━━━━━━━━━\u001b[0m \u001b[32m0.0/4.2 MB\u001b[0m \u001b[31m?\u001b[0m eta \u001b[36m-:--:--\u001b[0m\r\u001b[2K     \u001b[91m━━━━━━━━━━━━━━━━━━━━━━━━━━━━━━━━━━━━━━━\u001b[0m\u001b[91m╸\u001b[0m \u001b[32m4.2/4.2 MB\u001b[0m \u001b[31m146.0 MB/s\u001b[0m eta \u001b[36m0:00:01\u001b[0m\r\u001b[2K     \u001b[90m━━━━━━━━━━━━━━━━━━━━━━━━━━━━━━━━━━━━━━━━\u001b[0m \u001b[32m4.2/4.2 MB\u001b[0m \u001b[31m60.1 MB/s\u001b[0m eta \u001b[36m0:00:00\u001b[0m\n",
            "\u001b[?25h  Preparing metadata (setup.py) ... \u001b[?25l\u001b[?25hdone\n",
            "Collecting pycryptodome\n",
            "  Downloading pycryptodome-3.16.0-cp35-abi3-manylinux_2_5_x86_64.manylinux1_x86_64.manylinux_2_12_x86_64.manylinux2010_x86_64.whl (2.3 MB)\n",
            "\u001b[2K     \u001b[90m━━━━━━━━━━━━━━━━━━━━━━━━━━━━━━━━━━━━━━━━\u001b[0m \u001b[32m2.3/2.3 MB\u001b[0m \u001b[31m77.2 MB/s\u001b[0m eta \u001b[36m0:00:00\u001b[0m\n",
            "\u001b[?25hBuilding wheels for collected packages: pdfminer\n",
            "  Building wheel for pdfminer (setup.py) ... \u001b[?25l\u001b[?25hdone\n",
            "  Created wheel for pdfminer: filename=pdfminer-20191125-py3-none-any.whl size=6140100 sha256=a5ad1b3e54d5491007b25f123910d1c2e12cf50c106cee6bdf7148f0486ebf1f\n",
            "  Stored in directory: /root/.cache/pip/wheels/1c/28/7d/f390b82bb0307deb63ff27a1474fd308ec68ee028cb9ab6283\n",
            "Successfully built pdfminer\n",
            "Installing collected packages: pycryptodome, pdfminer\n",
            "Successfully installed pdfminer-20191125 pycryptodome-3.16.0\n"
          ]
        },
        {
          "output_type": "error",
          "ename": "TypeError",
          "evalue": "ignored",
          "traceback": [
            "\u001b[0;31m---------------------------------------------------------------------------\u001b[0m",
            "\u001b[0;31mTypeError\u001b[0m                                 Traceback (most recent call last)",
            "\u001b[0;32m<ipython-input-3-99501b6c0cf5>\u001b[0m in \u001b[0;36m<module>\u001b[0;34m\u001b[0m\n\u001b[1;32m     32\u001b[0m     \u001b[0;32mreturn\u001b[0m \u001b[0mtext\u001b[0m\u001b[0;34m\u001b[0m\u001b[0;34m\u001b[0m\u001b[0m\n\u001b[1;32m     33\u001b[0m \u001b[0;34m\u001b[0m\u001b[0m\n\u001b[0;32m---> 34\u001b[0;31m \u001b[0mprint\u001b[0m\u001b[0;34m(\u001b[0m\u001b[0mconvert_pdf_to_txt\u001b[0m\u001b[0;34m(\u001b[0m\u001b[0;34m'path/to/file.pdf'\u001b[0m\u001b[0;34m)\u001b[0m\u001b[0;34m)\u001b[0m\u001b[0;34m\u001b[0m\u001b[0;34m\u001b[0m\u001b[0m\n\u001b[0m",
            "\u001b[0;32m<ipython-input-3-99501b6c0cf5>\u001b[0m in \u001b[0;36mconvert_pdf_to_txt\u001b[0;34m(path)\u001b[0m\n\u001b[1;32m     14\u001b[0m     \u001b[0mcodec\u001b[0m \u001b[0;34m=\u001b[0m \u001b[0;34m'utf-8'\u001b[0m\u001b[0;34m\u001b[0m\u001b[0;34m\u001b[0m\u001b[0m\n\u001b[1;32m     15\u001b[0m     \u001b[0mlaparams\u001b[0m \u001b[0;34m=\u001b[0m \u001b[0mLAParams\u001b[0m\u001b[0;34m(\u001b[0m\u001b[0;34m)\u001b[0m\u001b[0;34m\u001b[0m\u001b[0;34m\u001b[0m\u001b[0m\n\u001b[0;32m---> 16\u001b[0;31m     \u001b[0mdevice\u001b[0m \u001b[0;34m=\u001b[0m \u001b[0mTextConverter\u001b[0m\u001b[0;34m(\u001b[0m\u001b[0mrsrcmgr\u001b[0m\u001b[0;34m,\u001b[0m \u001b[0mretstr\u001b[0m\u001b[0;34m,\u001b[0m \u001b[0mcodec\u001b[0m\u001b[0;34m=\u001b[0m\u001b[0mcodec\u001b[0m\u001b[0;34m,\u001b[0m \u001b[0mlaparams\u001b[0m\u001b[0;34m=\u001b[0m\u001b[0mlaparams\u001b[0m\u001b[0;34m)\u001b[0m\u001b[0;34m\u001b[0m\u001b[0;34m\u001b[0m\u001b[0m\n\u001b[0m\u001b[1;32m     17\u001b[0m     \u001b[0mfp\u001b[0m \u001b[0;34m=\u001b[0m \u001b[0mopen\u001b[0m\u001b[0;34m(\u001b[0m\u001b[0mpath\u001b[0m\u001b[0;34m,\u001b[0m \u001b[0;34m'rb'\u001b[0m\u001b[0;34m)\u001b[0m\u001b[0;34m\u001b[0m\u001b[0;34m\u001b[0m\u001b[0m\n\u001b[1;32m     18\u001b[0m     \u001b[0minterpreter\u001b[0m \u001b[0;34m=\u001b[0m \u001b[0mPDFPageInterpreter\u001b[0m\u001b[0;34m(\u001b[0m\u001b[0mrsrcmgr\u001b[0m\u001b[0;34m,\u001b[0m \u001b[0mdevice\u001b[0m\u001b[0;34m)\u001b[0m\u001b[0;34m\u001b[0m\u001b[0;34m\u001b[0m\u001b[0m\n",
            "\u001b[0;31mTypeError\u001b[0m: __init__() got an unexpected keyword argument 'codec'"
          ]
        }
      ]
    },
    {
      "cell_type": "code",
      "source": [
        "!pip install pypdf2\n"
      ],
      "metadata": {
        "colab": {
          "base_uri": "https://localhost:8080/"
        },
        "id": "z3X6sWVq7vZL",
        "outputId": "3dba7753-b612-4fd5-c73e-1d9c41b2360c"
      },
      "execution_count": null,
      "outputs": [
        {
          "output_type": "stream",
          "name": "stdout",
          "text": [
            "Looking in indexes: https://pypi.org/simple, https://us-python.pkg.dev/colab-wheels/public/simple/\n",
            "Collecting pypdf2\n",
            "  Downloading pypdf2-3.0.1-py3-none-any.whl (232 kB)\n",
            "\u001b[2K     \u001b[90m━━━━━━━━━━━━━━━━━━━━━━━━━━━━━━━━━━━━━━\u001b[0m \u001b[32m232.6/232.6 KB\u001b[0m \u001b[31m11.7 MB/s\u001b[0m eta \u001b[36m0:00:00\u001b[0m\n",
            "\u001b[?25hRequirement already satisfied: typing_extensions>=3.10.0.0 in /usr/local/lib/python3.8/dist-packages (from pypdf2) (4.4.0)\n",
            "Installing collected packages: pypdf2\n",
            "Successfully installed pypdf2-3.0.1\n"
          ]
        }
      ]
    },
    {
      "cell_type": "code",
      "source": [
        "# Import the PyPDF2 library\n",
        "import PyPDF2\n",
        "\n",
        "# Open the PDF file\n",
        "with open('/abc.pdf', 'rb') as file:\n",
        "    # Create a PDF object\n",
        "    reader = PyPDF2.PdfReader(file)\n",
        "\n",
        "    # Extract the text from the first page\n",
        "    page = reader.pages[15]\n",
        "    text = page.extract_text()     \n",
        "\n",
        "    # Print the text\n",
        "    print(text)\n"
      ],
      "metadata": {
        "colab": {
          "base_uri": "https://localhost:8080/"
        },
        "id": "YEYFstcW8mbY",
        "outputId": "7100f28e-c192-4efb-8607-4a0943b429d4"
      },
      "execution_count": null,
      "outputs": [
        {
          "output_type": "stream",
          "name": "stdout",
          "text": [
            "PIC18F2455/2550/4455/4550\n",
            "DS39632C-page 14 Preliminary © 2006 Microchip Technology Inc.PORTB is a bidirectional I/O port. PORTB can be software \n",
            "programmed for internal weak pull-ups on all inputs. \n",
            "RB0/AN12/INT0/FLT0/\n",
            "SDI/SDA\n",
            "RB0AN12\n",
            "INT0\n",
            "FLT0SDI\n",
            "SDA21\n",
            "I/O\n",
            "I\n",
            "I\n",
            "II\n",
            "I/OTTL\n",
            "Analog\n",
            "ST\n",
            "STST\n",
            "STDigital I/O.\n",
            "Analog input 12. \n",
            "External interrupt 0.\n",
            "PWM Fault input (CCP1 module).SPI data in.\n",
            "I\n",
            "2C™ data I/O.\n",
            "RB1/AN10/INT1/SCK/\n",
            "SCL\n",
            "RB1\n",
            "AN10INT1\n",
            "SCK\n",
            "SCL22\n",
            "I/O\n",
            "II\n",
            "I/O\n",
            "I/OTTL\n",
            "Analog\n",
            "ST\n",
            "ST\n",
            "STDigital I/O.\n",
            "Analog input 10. External interrupt 1.\n",
            "Synchronous serial clock input/output for SPI mode.\n",
            "Synchronous serial clock input/output for I\n",
            "2C mode.\n",
            "RB2/AN8/INT2/VMO\n",
            "RB2\n",
            "AN8INT2\n",
            "VMO23\n",
            "I/O\n",
            "II\n",
            "OTTL\n",
            "Analog\n",
            "ST\n",
            "—Digital I/O.\n",
            "Analog input 8.External interrupt 2.\n",
            "External USB transceiver VMO output.\n",
            "RB3/AN9/CCP2/VPO\n",
            "RB3\n",
            "AN9\n",
            "CCP2\n",
            "(1)\n",
            "VPO24\n",
            "I/O\n",
            "I\n",
            "I/O\n",
            "OTTL\n",
            "Analog\n",
            "ST\n",
            "—Digital I/O.\n",
            "Analog input 9. \n",
            "Capture 2 input/Compare 2 output/PWM 2 output.External USB transceiver VPO output.\n",
            "RB4/AN11/KBI0\n",
            "RB4AN11\n",
            "KBI025\n",
            "I/O\n",
            "I\n",
            "ITTL\n",
            "Analog\n",
            "TTLDigital I/O.\n",
            "Analog input 11.\n",
            "Interrupt-on-change pin.\n",
            "RB5/KBI1/PGM\n",
            "RB5\n",
            "KBI1\n",
            "PGM26\n",
            "I/O\n",
            "I\n",
            "I/OTTL\n",
            "TTL\n",
            "STDigital I/O.\n",
            "Interrupt-on-change pin.\n",
            "Low-Voltage ICSP™ Programming enable pin.\n",
            "RB6/KBI2/PGC\n",
            "RB6\n",
            "KBI2PGC27\n",
            "I/O\n",
            "I\n",
            "I/OTTL\n",
            "TTL\n",
            "STDigital I/O.\n",
            "Interrupt-on-change pin. In-Circuit Debugger and ICSP programming clock pin.\n",
            "RB7/KBI3/PGD\n",
            "RB7KBI3\n",
            "PGD28\n",
            "I/O\n",
            "I\n",
            "I/OTTL\n",
            "TTL\n",
            "STDigital I/O.\n",
            "Interrupt-on-change pin. \n",
            "In-Circuit Debugger and ICSP programming data pin.TABLE 1-2: PIC18F2455/2550 PINOUT I/O DESCRIPTIONS (CONTINUED) \n",
            "Pin NamePin \n",
            "NumberPin\n",
            "TypeBuffer\n",
            "TypeDescription\n",
            "PDIP, \n",
            "SOIC\n",
            "Legend: TTL = TTL compatible input CMOS = CMOS compatible input or output \n",
            "ST = Schmitt Trigger input with CMOS levels I = Input \n",
            "O = Output P = Power    \n",
            "Note 1: Alternate assignment for CCP2 when CCP2MX Configuration bit is cleared.\n",
            "2:Default assignment for CCP2 when CCP2MX Configuration bit is set.\n"
          ]
        }
      ]
    }
  ]
}